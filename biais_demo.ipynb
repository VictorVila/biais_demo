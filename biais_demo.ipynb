{
 "cells": [
  {
   "cell_type": "markdown",
   "id": "3aed4095-ae1e-4890-abdf-769ab59e787f",
   "metadata": {},
   "source": [
    "# Biais démo\n",
    "\n",
    "Cette application a été conçue pour servir de support pour expliquer aux élèves de droit ce que c'est que le biais dû aux données d'entraintement.\n",
    "\n",
    "Live : https://huggingface.co/spaces/VictorVS/biais_demo \n",
    "\n",
    "## Scénario\n",
    "\n",
    "Une entreprise veut fluidifier son processus de recrutement et lance un projet d'IA qui trie des CVs. Pour cela, l'IA est entraînée avec les données issues des entretiens de recrutement précedents. L'idée subyacente est que l'IA sera capable de découvrir les critères de sélection partagés par les CV des personnes récrutées. Concrètement, chaque entretien est représenté comme une ligne d'un tableau qui comporte des informations des candidats ansi que l'issue de l'entretien. \n",
    "\n",
    "Imaginons qu'un recrutement est lancé pour embaucher un profil \"confirmé\" et que les données d'entraînement présentent un biais évident : aucune femme n'a été retenue et tous les hommes ont été recrutés sans tenir compte de leur profil (junior, confirmé ou sénior). L'IA saura-t-elle préconiser les profils confirmés ? \n",
    "\n",
    "Pour le savoir il suffit de cliquer sur le bouton \"soumettre\" qui lance ces actions :\n",
    "\n",
    "1. Entraînement d'un modèle à partir de données fournies ;\n",
    "2. Utilisation du modèle pour réaliser des prédictions sur des données de test ;\n",
    "3. Calcul et affichage de l'importance accordée par le modèle à chaque colonne des données ;\n",
    "\n",
    "Les réultats sont ceux que vous attendiez ? \n",
    "\n",
    "Sauriez-vous modifier les données d'entraînement pour éviter le biais et qu'il réussise à identifier les profils \"confirmés\" ? Essayez à le faire et cliquez à nouveau sur \"Soumettre\".  \n"
   ]
  },
  {
   "cell_type": "code",
   "execution_count": 1,
   "id": "8954f380-39b5-4caf-98d3-b320d57159e2",
   "metadata": {},
   "outputs": [],
   "source": [
    "# Imports\n",
    "\n",
    "import pandas as pd\n",
    "import sklearn\n",
    "from sklearn import tree\n",
    "from sklearn.tree import DecisionTreeClassifier\n",
    "from sklearn.tree import export_text\n",
    "from sklearn.compose import ColumnTransformer, make_column_selector as selector\n",
    "from sklearn.preprocessing import OneHotEncoder   \n",
    "from sklearn.pipeline import make_pipeline \n",
    "import gradio as gr\n"
   ]
  },
  {
   "cell_type": "code",
   "execution_count": 2,
   "id": "a6e8eb11-2823-4b40-a450-e5df2a0b5cda",
   "metadata": {},
   "outputs": [],
   "source": [
    "# App\n",
    "\n",
    "def get_data_raw() :\n",
    "    \"\"\"Returns the initial (and higly biased) train dataset\"\"\" \n",
    "    data = {\n",
    "        'Titre' : ['Mme', 'Mme', 'Mme', 'M', 'M', 'M'],\n",
    "        'Nom' : ['Rachel', 'Phoebe', 'Monica', 'Chandler', 'Joey', 'Ross'],  \n",
    "        'Expérience' : ['Junior', 'Confirmé', 'Confirmé', 'Junior', 'Senior', 'Confirmé'],\n",
    "        'Recrutement' : ['Non', 'Non', 'Non', 'Oui', 'Oui', 'Oui'],\n",
    "    } \n",
    "    data_raw = pd.DataFrame(data=data)\n",
    "    return data_raw\n",
    "\n",
    "\n",
    "def get_data_test() :\n",
    "    \"\"\"Returns the test dataset\"\"\" \n",
    "    data_test = {\n",
    "        'Titre' : ['Mme', 'Mme', 'Mme', 'M', 'M', 'M'],\n",
    "        'Nom' : ['Leia', 'Padme', 'Rei', 'Han Solo', 'Luke', 'Chewbacca'],  \n",
    "        'Expérience' : ['Junior', 'Confirmé', 'Confirmé', 'Junior', 'Senior', 'Confirmé'],\n",
    "    } \n",
    "    df_data_test = pd.DataFrame(data=data_test)\n",
    "    return df_data_test\n",
    "\n",
    "def get_model(data, target) : \n",
    "    \"\"\"Trains a decision tree and returns the model and the classifier itself \"\"\" \n",
    "    categorical_columns_selector = selector(dtype_include=object) \n",
    "    categorical_columns = categorical_columns_selector(data) \n",
    "    categorical_preprocessor = OneHotEncoder(handle_unknown=\"ignore\")  \n",
    "    preprocessor = ColumnTransformer([\n",
    "        ('categorical', categorical_preprocessor, categorical_columns) \n",
    "    ])\n",
    "    decission_tree = DecisionTreeClassifier()\n",
    "    pipeline = make_pipeline(preprocessor, decission_tree) \n",
    "    return pipeline.fit(data, target), decission_tree\n",
    "\n",
    "def get_features_importance(model, classifier): \n",
    "    \"\"\"Returns the weight of each feature in the classifier\"\"\" \n",
    "    df1 = pd.DataFrame(data=model[:-1].get_feature_names_out(), columns=['Critère'])\n",
    "    df2 = pd.DataFrame(data=classifier.feature_importances_, columns=['Importance'])\n",
    "    df_concat = pd.concat([df1, df2], axis=1)\n",
    "    return df_concat \n",
    "\n",
    "def get_output(data_raw): \n",
    "    \"\"\"Applies the model to the test data and gets predictions.\n",
    "    Returns the test data along qith the predictions and the importance of each feature\"\"\"      \n",
    "    data = data_raw.drop(columns=['Nom','Recrutement'])\n",
    "    target = data_raw.Recrutement \n",
    "    model, decission_tree = get_model(data, target)  \n",
    "    data_test = get_data_test() \n",
    "    predictions = model.predict(data_test) \n",
    "    result = pd.concat([data_test, pd.DataFrame(data = predictions, columns={'Predictions'})], axis = 1)\n",
    "    features_importance = get_features_importance(model, decission_tree)\n",
    "    return result, features_importance"
   ]
  },
  {
   "cell_type": "code",
   "execution_count": 25,
   "id": "2402a8d4-b98e-494a-95f8-b35e1ac82573",
   "metadata": {},
   "outputs": [
    {
     "name": "stdout",
     "output_type": "stream",
     "text": [
      "Running on local URL:  http://127.0.0.1:7870\n",
      "\n",
      "To create a public link, set `share=True` in `launch()`.\n"
     ]
    },
    {
     "data": {
      "text/html": [
       "<div><iframe src=\"http://127.0.0.1:7870/\" width=\"100%\" height=\"500\" allow=\"autoplay; camera; microphone; clipboard-read; clipboard-write;\" frameborder=\"0\" allowfullscreen></iframe></div>"
      ],
      "text/plain": [
       "<IPython.core.display.HTML object>"
      ]
     },
     "metadata": {},
     "output_type": "display_data"
    },
    {
     "data": {
      "text/plain": []
     },
     "execution_count": 25,
     "metadata": {},
     "output_type": "execute_result"
    }
   ],
   "source": [
    "# Launching the Gradio UI \n",
    "\n",
    "ui = gr.Interface(\n",
    "    fn=get_output, \n",
    "    inputs=[ \n",
    "        gr.Dataframe(get_data_raw(), label=\"Données d'entraînement\")\n",
    "    ],\n",
    "    outputs=[\n",
    "        gr.Dataframe(label=\"Prédictions\"),\n",
    "        gr.Dataframe(label=\"Importance des paramètres\")\n",
    "    ],\n",
    "    title=\"Biais démo\",\n",
    "    description=\"\"\"Application de support pour expliquer aux élèves de droit ce que c'est que le biais dû aux données d'entraînement.\n",
    "\n",
    "Live : https://huggingface.co/spaces/VictorVS/biais_demo \n",
    "\n",
    "## Scénario\n",
    "\n",
    "Une entreprise veut fluidifier son processus de recrutement et lance un projet d'IA qui trie des CVs. Pour cela, l'IA est entraînée avec les données issues des entretiens de recrutement précédents. L'idée subjacente est que l'IA sera capable de découvrir les critères de sélection partagés par les CV des personnes recrutées. Concrètement, chaque entretien est représenté comme une ligne d'un tableau qui comporte des informations des candidats ainsi que l'issue de l'entretien. \n",
    "\n",
    "Imaginons qu'un recrutement est lancé pour embaucher un profil \"confirmé\" et que les données d'entraînement présentent un biais évident : aucune femme n'a été retenue et tous les hommes ont été recrutés sans tenir compte de leur profil (junior, confirmé ou senior). L'IA saura-t-elle préconiser les profils confirmés ? \n",
    "\n",
    "Pour le savoir il suffit de cliquer sur le bouton \"soumettre\" qui lance ces actions :\n",
    "\n",
    "1. Entraînement d'un modèle à partir de données fournies ;\n",
    "2. Utilisation du modèle pour réaliser des prédictions sur des données de test ;\n",
    "3. Calcul et affichage de l'importance accordée par le modèle à chaque colonne des données ;\n",
    "\n",
    "Les résultats sont ceux que vous attendiez ? \n",
    "\n",
    "Sauriez-vous modifier les données d'entraînement pour éviter le biais et qu'il réussisse à identifier les profils \"confirmés\" ? Essayez à le faire et cliquez à nouveau sur \"Soumettre\".  \"\"\")\n",
    "ui.launch() "
   ]
  },
  {
   "cell_type": "code",
   "execution_count": null,
   "id": "bb1b38b1-267c-4bf8-b140-df833c78ec08",
   "metadata": {},
   "outputs": [],
   "source": []
  }
 ],
 "metadata": {
  "kernelspec": {
   "display_name": "Python 3 (ipykernel)",
   "language": "python",
   "name": "python3"
  },
  "language_info": {
   "codemirror_mode": {
    "name": "ipython",
    "version": 3
   },
   "file_extension": ".py",
   "mimetype": "text/x-python",
   "name": "python",
   "nbconvert_exporter": "python",
   "pygments_lexer": "ipython3",
   "version": "3.8.13"
  }
 },
 "nbformat": 4,
 "nbformat_minor": 5
}
